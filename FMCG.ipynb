{
 "cells": [
  {
   "cell_type": "code",
   "execution_count": 3,
   "id": "0d0ba66a-9792-4a4c-8970-2dfcaa1689db",
   "metadata": {
    "tags": []
   },
   "outputs": [],
   "source": [
    "# Import the pandas library and alias it as 'pd' for ease of use\n",
    "import pandas as pd\n",
    "\n",
    "# Import the numpy library and alias it as 'np' for ease of use\n",
    "import numpy as np"
   ]
  },
  {
   "cell_type": "code",
   "execution_count": 4,
   "id": "970089e9-0200-4f29-a62f-3e0a43b43b7e",
   "metadata": {
    "tags": []
   },
   "outputs": [],
   "source": [
    "# Read the data from the CSV file \"Raw Sales Data.csv\" into a DataFrame named 'raw_data'\n",
    "raw_data = pd.read_csv(\"Raw Sales Data.csv\")"
   ]
  },
  {
   "cell_type": "code",
   "execution_count": 5,
   "id": "64f65c29-4a8c-4c63-a5ab-014b5aac59e1",
   "metadata": {
    "tags": []
   },
   "outputs": [],
   "source": [
    "# Convert the 'Month' column to datetime format, then convert it back to month names (e.g., \"January\", \"February\")\n",
    "raw_data[\"Month\"] = pd.to_datetime(raw_data[\"Month\"]).dt.strftime('%B')\n",
    "\n",
    "# Remove commas from the 'Qty' column and convert it to integer data type\n",
    "raw_data[\"Qty\"] = raw_data[\"Qty\"].str.replace(\",\",\"\").astype(\"int\")\n",
    "\n",
    "# Remove commas from the 'Sales' column and convert it to integer data type\n",
    "raw_data[\"Sales\"] = raw_data[\"Sales\"].str.replace(\",\",\"\").astype(\"int\")\n"
   ]
  },
  {
   "cell_type": "markdown",
   "id": "2f14aae4-d29c-4ea8-bd56-9d5a87fcfa4f",
   "metadata": {
    "tags": []
   },
   "source": [
    "## 1. Monthwise number of quantities sold"
   ]
  },
  {
   "cell_type": "code",
   "execution_count": 6,
   "id": "3bbe56a2-dead-4c1c-9f2a-c3bdf472edd1",
   "metadata": {
    "tags": []
   },
   "outputs": [
    {
     "data": {
      "text/plain": [
       "Month\n",
       "December    85427\n",
       "February    76393\n",
       "January     67732\n",
       "March       80229\n",
       "Name: Qty, dtype: int32"
      ]
     },
     "execution_count": 6,
     "metadata": {},
     "output_type": "execute_result"
    }
   ],
   "source": [
    "# Group the 'raw_data' DataFrame by the 'Month' column and calculate the sum of quantities sold for each month\n",
    "Mon_qty_sold = raw_data.groupby(\"Month\")[\"Qty\"].sum()\n",
    "\n",
    "# Display the total quantity sold for each month\n",
    "Mon_qty_sold"
   ]
  },
  {
   "cell_type": "markdown",
   "id": "145dd4e0-303c-46bb-b38e-9460aa21367b",
   "metadata": {
    "tags": []
   },
   "source": [
    "## 2. Category wise Qty sold"
   ]
  },
  {
   "cell_type": "code",
   "execution_count": 5,
   "id": "b3e9c9d6-76dc-42d0-bdf6-c30323ed1e50",
   "metadata": {},
   "outputs": [
    {
     "data": {
      "text/plain": [
       "Category\n",
       "Functional nutrition     42354\n",
       "Gourmet Nutrition        89279\n",
       "Juices                  178148\n",
       "Name: Qty, dtype: int32"
      ]
     },
     "execution_count": 5,
     "metadata": {},
     "output_type": "execute_result"
    }
   ],
   "source": [
    "# Group the 'raw_data' DataFrame by the 'Category' column and calculate the sum of quantities sold for each category\n",
    "cat_qty_sold = raw_data.groupby(\"Category\")[\"Qty\"].sum()\n",
    "\n",
    "# Display the total quantity sold for each category\n",
    "cat_qty_sold"
   ]
  },
  {
   "cell_type": "markdown",
   "id": "e39e0631-b23c-432e-a2b1-b4afd87d3458",
   "metadata": {
    "tags": []
   },
   "source": [
    "## 3. Sub-channel wise total sales"
   ]
  },
  {
   "cell_type": "code",
   "execution_count": 7,
   "id": "22bdaeb6-5f75-48b5-aaae-c93e5d00fe16",
   "metadata": {
    "tags": []
   },
   "outputs": [
    {
     "data": {
      "text/plain": [
       "Sub-Channels\n",
       "AMAZON               35606804\n",
       "Big Basket            1207522\n",
       "D2C                  28047538\n",
       "Flipkart              3770415\n",
       "GOQII                  582600\n",
       "Offline - Central      375332\n",
       "Offline - East         811146\n",
       "Offline - MT          6257948\n",
       "Offline - South       3446395\n",
       "Offline - West        6441427\n",
       "Offline -North        1206564\n",
       "Name: Sales, dtype: int32"
      ]
     },
     "execution_count": 7,
     "metadata": {},
     "output_type": "execute_result"
    }
   ],
   "source": [
    "# Group the 'raw_data' DataFrame by the 'Sub-Channels' column and calculate the sum of sales for each sub-channel\n",
    "chan_sales = raw_data.groupby(\"Sub-Channels\")[\"Sales\"].sum()\n",
    "\n",
    "# Display the total sales for each sub-channel\n",
    "chan_sales"
   ]
  },
  {
   "cell_type": "markdown",
   "id": "a949eff8-54f4-4342-af98-4261ae3914a7",
   "metadata": {},
   "source": [
    "## 4. Highest sale in which month"
   ]
  },
  {
   "cell_type": "code",
   "execution_count": 8,
   "id": "0da607a7-6d73-4d3a-890b-b1298928db06",
   "metadata": {
    "tags": []
   },
   "outputs": [
    {
     "data": {
      "text/html": [
       "<div>\n",
       "<style scoped>\n",
       "    .dataframe tbody tr th:only-of-type {\n",
       "        vertical-align: middle;\n",
       "    }\n",
       "\n",
       "    .dataframe tbody tr th {\n",
       "        vertical-align: top;\n",
       "    }\n",
       "\n",
       "    .dataframe thead th {\n",
       "        text-align: right;\n",
       "    }\n",
       "</style>\n",
       "<table border=\"1\" class=\"dataframe\">\n",
       "  <thead>\n",
       "    <tr style=\"text-align: right;\">\n",
       "      <th></th>\n",
       "      <th>Highest selling month</th>\n",
       "    </tr>\n",
       "  </thead>\n",
       "  <tbody>\n",
       "    <tr>\n",
       "      <th>0</th>\n",
       "      <td>March</td>\n",
       "    </tr>\n",
       "  </tbody>\n",
       "</table>\n",
       "</div>"
      ],
      "text/plain": [
       "  Highest selling month\n",
       "0                 March"
      ]
     },
     "execution_count": 8,
     "metadata": {},
     "output_type": "execute_result"
    }
   ],
   "source": [
    "# Group the 'raw_data' DataFrame by the 'Month' column, calculate the sum of sales for each month,\n",
    "# sort the results in descending order, reset the index, and select the first row to get the highest selling month\n",
    "High_sale = raw_data.groupby(\"Month\")[\"Sales\"].sum().sort_values(ascending=False).reset_index().iloc[0][\"Month\"]\n",
    "\n",
    "# Create a new DataFrame with the highest selling month stored in a single column named 'Highest selling month'\n",
    "High_sale = pd.DataFrame({'Highest selling month': [High_sale]})\n",
    "\n",
    "# Display the DataFrame containing the highest selling month\n",
    "High_sale\n"
   ]
  },
  {
   "cell_type": "markdown",
   "id": "899ddf69-8dfd-4aac-a3de-d028aca84536",
   "metadata": {},
   "source": [
    "### 5. Highest selling product (based on sales) (packaging quantity doesn't matter. Ex. consider \"GET SLIM JUICE 1 L\" and \"GET SLIM JUICE 500 ML\" as one product)"
   ]
  },
  {
   "cell_type": "code",
   "execution_count": 8,
   "id": "e6cdae8d-7a13-4605-8856-4d6cd0b81b8f",
   "metadata": {
    "tags": []
   },
   "outputs": [],
   "source": [
    "# Replace numerical digits with '#' in the \"Product Name\" column, then split each value at '#' and take the first part\n",
    "raw_data[\"Product Name\"] = raw_data[\"Product Name\"].replace('\\d', '#').apply(lambda X: X.split(\"#\")[0])\n",
    "\n",
    "# Group the DataFrame by \"Product Name\", calculate the sum of sales for each product,\n",
    "# sort the results in descending order, reset the index, and select the top row to get the highest selling product\n",
    "High_sel_pd = raw_data.groupby(\"Product Name\")[\"Sales\"].sum().sort_values(ascending=False).reset_index().head(1)\n",
    "\n",
    "# Extract the name of the highest selling product from the DataFrame\n",
    "High_sel_pdd = High_sel_pd[\"Product Name\"]"
   ]
  },
  {
   "cell_type": "markdown",
   "id": "ab43674b-37a8-49a0-91e7-f4c22a19c384",
   "metadata": {
    "tags": []
   },
   "source": [
    "### 6. List of different products company is offering (packaging quantity doesn't matter. Ex. consider \"GET SLIM JUICE 1 L\" and \"GET SLIM JUICE 500 ML\" as one product)\n"
   ]
  },
  {
   "cell_type": "code",
   "execution_count": 9,
   "id": "dc7924f0-0210-49c7-812f-e045917cf2ef",
   "metadata": {
    "tags": []
   },
   "outputs": [],
   "source": [
    "# Get the unique product names from the \"Product Name\" column of the raw_data DataFrame\n",
    "diff_pd_lst = raw_data[\"Product Name\"].unique()\n",
    "\n",
    "# Create a new DataFrame 'Com_pro' with a single column \"Product Name\" containing unique product names\n",
    "Com_pro = pd.DataFrame({\"Product Name\": diff_pd_lst})"
   ]
  },
  {
   "cell_type": "markdown",
   "id": "11466dc5-8807-4541-84d0-d8908d0e9dea",
   "metadata": {
    "tags": []
   },
   "source": [
    "## 7. Create a single excel file to save all the outputs generated above in different subsheets."
   ]
  },
  {
   "cell_type": "code",
   "execution_count": 91,
   "id": "b681ef2d-2e76-4acb-bad0-56aa7f00ce24",
   "metadata": {
    "tags": []
   },
   "outputs": [],
   "source": [
    "# Open an ExcelWriter object to write data to an Excel file named \"FMCG Assignment.xlsx\"\n",
    "with pd.ExcelWriter(\"FMCG Assignment.xlsx\") as writer:\n",
    "    # Write the 'Mon_qty_sold' DataFrame to a sheet named \"Month Wise Qty Sold\"\n",
    "    Mon_qty_sold.to_excel(writer, sheet_name=\"Month Wise Qty Sold\")\n",
    "\n",
    "    # Write the 'cat_qty_sold' DataFrame to a sheet named \"Cat wise Qty Sold\"\n",
    "    cat_qty_sold.to_excel(writer, sheet_name=\"Cat wise Qty Sold\")\n",
    "\n",
    "    # Write the 'chan_sales' DataFrame to a sheet named \"Sub_Chan Wise Sales\"\n",
    "    chan_sales.to_excel(writer, sheet_name=\"Sub_Chan Wise Sales\")\n",
    "\n",
    "    # Write the 'High_sale' DataFrame to a sheet named \"Highest Selling Month\" without including the index\n",
    "    High_sale.to_excel(writer, \"Highest Selling Month\", index=False)\n",
    "\n",
    "    # Write the 'High_sel_pdd' Series to a sheet named \"Highest Selling Product\" without including the index\n",
    "    High_sel_pdd.to_excel(writer, sheet_name=\"Highest Selling Product\", index=False)\n",
    "\n",
    "    # Write the 'Com_pro' DataFrame to a sheet named \"Company Products list\" without including the index\n",
    "    Com_pro.to_excel(writer, sheet_name=\"Company Products list\", index=False)"
   ]
  },
  {
   "cell_type": "code",
   "execution_count": 89,
   "id": "b3f92887-630b-41ac-89f4-ee5feb331765",
   "metadata": {},
   "outputs": [],
   "source": []
  },
  {
   "cell_type": "code",
   "execution_count": null,
   "id": "1514558d-ab4b-416b-ad87-a148c1f8acef",
   "metadata": {
    "tags": []
   },
   "outputs": [],
   "source": []
  },
  {
   "cell_type": "code",
   "execution_count": null,
   "id": "2ba3119b-7a66-4b11-b2a3-6bc02ac3a4ba",
   "metadata": {},
   "outputs": [],
   "source": []
  },
  {
   "cell_type": "code",
   "execution_count": null,
   "id": "7ac5dbed-90a2-4945-a278-7da0b3682f3b",
   "metadata": {},
   "outputs": [],
   "source": []
  }
 ],
 "metadata": {
  "kernelspec": {
   "display_name": "Python 3 (ipykernel)",
   "language": "python",
   "name": "python3"
  },
  "language_info": {
   "codemirror_mode": {
    "name": "ipython",
    "version": 3
   },
   "file_extension": ".py",
   "mimetype": "text/x-python",
   "name": "python",
   "nbconvert_exporter": "python",
   "pygments_lexer": "ipython3",
   "version": "3.11.4"
  }
 },
 "nbformat": 4,
 "nbformat_minor": 5
}
